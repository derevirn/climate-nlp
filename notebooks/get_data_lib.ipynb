{
 "cells": [
  {
   "cell_type": "code",
   "execution_count": 1,
   "id": "4d6bb397-fa13-41d2-b086-5c2ee5408e99",
   "metadata": {
    "tags": []
   },
   "outputs": [],
   "source": [
    "import pandas as pd\n",
    "from newscatcherapi import NewsCatcherApiClient\n",
    "from credentials import api_key\n"
   ]
  },
  {
   "cell_type": "code",
   "execution_count": 2,
   "id": "7db23033-705b-4305-a408-835ce66ffdb0",
   "metadata": {
    "tags": []
   },
   "outputs": [],
   "source": [
    "newsapi = NewsCatcherApiClient(x_api_key = api_key)"
   ]
  },
  {
   "cell_type": "code",
   "execution_count": 10,
   "id": "63c53a89-9674-4505-96bb-e9423d55b2f8",
   "metadata": {
    "tags": []
   },
   "outputs": [
    {
     "name": "stdout",
     "output_type": "stream",
     "text": [
      "01/01/2022 00:00:00 --> 07/01/2022 00:00:00\n",
      "1 page is going to be extracted\n",
      "Total number of found articles => 1379.\n",
      "Total number of pages 14.\n",
      "2/14 page is going to be extracted\n",
      "3/14 page is going to be extracted\n",
      "4/14 page is going to be extracted\n",
      "5/14 page is going to be extracted\n",
      "6/14 page is going to be extracted\n",
      "7/14 page is going to be extracted\n",
      "8/14 page is going to be extracted\n",
      "9/14 page is going to be extracted\n",
      "10/14 page is going to be extracted\n",
      "11/14 page is going to be extracted\n",
      "12/14 page is going to be extracted\n",
      "13/14 page is going to be extracted\n",
      "14/14 page is going to be extracted\n",
      "01/29/2022 00:00:00 --> 07/01/2022 00:00:00\n",
      "1 page is going to be extracted\n",
      "Total number of found articles => 1171.\n",
      "Total number of pages 12.\n",
      "2/12 page is going to be extracted\n",
      "3/12 page is going to be extracted\n",
      "4/12 page is going to be extracted\n",
      "5/12 page is going to be extracted\n",
      "6/12 page is going to be extracted\n",
      "7/12 page is going to be extracted\n",
      "8/12 page is going to be extracted\n",
      "9/12 page is going to be extracted\n",
      "10/12 page is going to be extracted\n",
      "11/12 page is going to be extracted\n",
      "12/12 page is going to be extracted\n",
      "02/26/2022 00:00:00 --> 07/01/2022 00:00:00\n",
      "1 page is going to be extracted\n",
      "Total number of found articles => 1368.\n",
      "Total number of pages 14.\n",
      "2/14 page is going to be extracted\n",
      "3/14 page is going to be extracted\n",
      "4/14 page is going to be extracted\n",
      "5/14 page is going to be extracted\n",
      "6/14 page is going to be extracted\n",
      "7/14 page is going to be extracted\n",
      "8/14 page is going to be extracted\n",
      "9/14 page is going to be extracted\n",
      "10/14 page is going to be extracted\n",
      "11/14 page is going to be extracted\n",
      "12/14 page is going to be extracted\n",
      "13/14 page is going to be extracted\n",
      "14/14 page is going to be extracted\n",
      "03/26/2022 00:00:00 --> 07/01/2022 00:00:00\n",
      "1 page is going to be extracted\n",
      "Total number of found articles => 1296.\n",
      "Total number of pages 13.\n",
      "2/13 page is going to be extracted\n",
      "3/13 page is going to be extracted\n",
      "4/13 page is going to be extracted\n",
      "5/13 page is going to be extracted\n",
      "6/13 page is going to be extracted\n",
      "7/13 page is going to be extracted\n",
      "8/13 page is going to be extracted\n",
      "9/13 page is going to be extracted\n",
      "10/13 page is going to be extracted\n",
      "11/13 page is going to be extracted\n",
      "12/13 page is going to be extracted\n",
      "13/13 page is going to be extracted\n",
      "04/23/2022 00:00:00 --> 07/01/2022 00:00:00\n",
      "1 page is going to be extracted\n",
      "Total number of found articles => 1700.\n",
      "Total number of pages 17.\n",
      "2/17 page is going to be extracted\n",
      "3/17 page is going to be extracted\n",
      "4/17 page is going to be extracted\n",
      "5/17 page is going to be extracted\n",
      "6/17 page is going to be extracted\n",
      "7/17 page is going to be extracted\n",
      "8/17 page is going to be extracted\n",
      "9/17 page is going to be extracted\n",
      "10/17 page is going to be extracted\n",
      "11/17 page is going to be extracted\n",
      "12/17 page is going to be extracted\n",
      "13/17 page is going to be extracted\n",
      "14/17 page is going to be extracted\n",
      "15/17 page is going to be extracted\n",
      "16/17 page is going to be extracted\n",
      "17/17 page is going to be extracted\n",
      "05/21/2022 00:00:00 --> 07/01/2022 00:00:00\n",
      "1 page is going to be extracted\n",
      "Total number of found articles => 1987.\n",
      "Total number of pages 20.\n",
      "2/20 page is going to be extracted\n",
      "3/20 page is going to be extracted\n",
      "4/20 page is going to be extracted\n",
      "5/20 page is going to be extracted\n",
      "6/20 page is going to be extracted\n",
      "7/20 page is going to be extracted\n",
      "8/20 page is going to be extracted\n",
      "9/20 page is going to be extracted\n",
      "10/20 page is going to be extracted\n",
      "11/20 page is going to be extracted\n",
      "12/20 page is going to be extracted\n",
      "13/20 page is going to be extracted\n",
      "14/20 page is going to be extracted\n",
      "15/20 page is going to be extracted\n",
      "16/20 page is going to be extracted\n",
      "17/20 page is going to be extracted\n",
      "18/20 page is going to be extracted\n",
      "19/20 page is going to be extracted\n",
      "20/20 page is going to be extracted\n",
      "06/18/2022 00:00:00 --> 07/01/2022 00:00:00\n",
      "1 page is going to be extracted\n",
      "Total number of found articles => 1109.\n",
      "Total number of pages 12.\n",
      "2/12 page is going to be extracted\n",
      "3/12 page is going to be extracted\n",
      "4/12 page is going to be extracted\n",
      "5/12 page is going to be extracted\n",
      "6/12 page is going to be extracted\n",
      "7/12 page is going to be extracted\n",
      "8/12 page is going to be extracted\n",
      "9/12 page is going to be extracted\n",
      "10/12 page is going to be extracted\n",
      "11/12 page is going to be extracted\n",
      "12/12 page is going to be extracted\n"
     ]
    }
   ],
   "source": [
    "sources = ['nytimes.com', 'theguardian.com', 'bbc.com',\n",
    "           'reuters.com', 'washingtonpost.com', 'wsj.com',\n",
    "           'foxnews.com', 'breitbart.com', 'newsmax.com' ]\n",
    "query = \" (climate && change) || (climate && crisis) \"\n",
    "\n",
    "news = newsapi.get_search_all_articles(q = query, sort_by = 'date',\n",
    "                          lang='en', by = 'month', sources = sources,\n",
    "                          from_ = '2022/01/01', to_ = '2022/07/01',\n",
    "                          page_size = 100, max_page = 100, seconds_pause = 1)"
   ]
  },
  {
   "cell_type": "code",
   "execution_count": 11,
   "id": "9ed94d14-75d9-4995-8306-d88fee8168ee",
   "metadata": {
    "tags": []
   },
   "outputs": [
    {
     "data": {
      "text/plain": [
       "10010"
      ]
     },
     "execution_count": 11,
     "metadata": {},
     "output_type": "execute_result"
    }
   ],
   "source": [
    "len(news['articles'])"
   ]
  },
  {
   "cell_type": "code",
   "execution_count": 22,
   "id": "74988d25-ba0c-4a0a-8ae2-606ce4cf85e7",
   "metadata": {
    "tags": []
   },
   "outputs": [],
   "source": [
    "df_news = pd.DataFrame(news['articles'])"
   ]
  },
  {
   "cell_type": "code",
   "execution_count": 23,
   "id": "a7b770a3-c4a9-4375-8abd-baab90174048",
   "metadata": {
    "tags": []
   },
   "outputs": [],
   "source": [
    "df_news['published_date'] = pd.to_datetime(df_news['published_date'])\n",
    "df_news = df_news.sort_values('published_date')"
   ]
  },
  {
   "cell_type": "code",
   "execution_count": 24,
   "id": "476e4ca4-7409-4939-a050-d2638d33a21b",
   "metadata": {
    "tags": []
   },
   "outputs": [],
   "source": [
    "df_news.to_csv('../data/climate_news.tar.bz2', encoding='utf-8', index=False, sep=',')"
   ]
  },
  {
   "cell_type": "code",
   "execution_count": 26,
   "id": "e60b4085-e302-446d-9f4f-23e4f86edfa6",
   "metadata": {
    "tags": []
   },
   "outputs": [
    {
     "data": {
      "text/plain": [
       "1419                  Why we need to expand our crop menu\n",
       "975            Jersey Archives releases records from 1921\n",
       "1579    Newsom blasted over tweet warning of 'vile' 'w...\n",
       "9629    Tanzania's Masaai demand Indigenous rights in ...\n",
       "9880    Sweltering streets: Hundreds of homeless die i...\n",
       "6218    Stanford gets $1B for climate change school fr...\n",
       "2220    U.S. House set to pass sweeping vote on China ...\n",
       "4743                    Koch Industries' Bet on Batteries\n",
       "5637    ‘This is about survival': will Cop27 bring act...\n",
       "3402    Will European countries tire of the Ukrainian ...\n",
       "4006    Left-wing L.A. Times Endorses Republican Lanhe...\n",
       "186     Youngkin pick Wheeler defends EPA record, crit...\n",
       "3087    Climate anxiety is tackled with £214m flood de...\n",
       "5376    Climate change is worsening heat wave in India...\n",
       "5188    Climate warming has dealt yet another blow to ...\n",
       "7722    Australian methane emissions massively underes...\n",
       "1612    ‘Loading the dice': climate crisis could incre...\n",
       "6423    More than 1,000 firefighters battle 150 square...\n",
       "3174            This Year, Try Spring Cleaning Your Brain\n",
       "3574    Climate crisis: Amazon rainforest tipping poin...\n",
       "Name: title, dtype: object"
      ]
     },
     "execution_count": 26,
     "metadata": {},
     "output_type": "execute_result"
    }
   ],
   "source": [
    "df_news['title'].sample(20)"
   ]
  },
  {
   "cell_type": "code",
   "execution_count": null,
   "id": "42c3ea9e-2614-4a46-90be-96c2082a9bc3",
   "metadata": {},
   "outputs": [],
   "source": []
  }
 ],
 "metadata": {
  "kernelspec": {
   "display_name": "Python 3 (ipykernel)",
   "language": "python",
   "name": "python3"
  },
  "language_info": {
   "codemirror_mode": {
    "name": "ipython",
    "version": 3
   },
   "file_extension": ".py",
   "mimetype": "text/x-python",
   "name": "python",
   "nbconvert_exporter": "python",
   "pygments_lexer": "ipython3",
   "version": "3.9.16"
  }
 },
 "nbformat": 4,
 "nbformat_minor": 5
}
