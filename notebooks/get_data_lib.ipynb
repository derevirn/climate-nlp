{
 "cells": [
  {
   "cell_type": "code",
   "execution_count": 3,
   "id": "4d6bb397-fa13-41d2-b086-5c2ee5408e99",
   "metadata": {
    "tags": []
   },
   "outputs": [],
   "source": [
    "import pandas as pd\n",
    "from newscatcherapi import NewsCatcherApiClient\n",
    "from credentials import api_key\n"
   ]
  },
  {
   "cell_type": "code",
   "execution_count": 4,
   "id": "7db23033-705b-4305-a408-835ce66ffdb0",
   "metadata": {
    "tags": []
   },
   "outputs": [],
   "source": [
    "newsapi = NewsCatcherApiClient(x_api_key = api_key)"
   ]
  },
  {
   "cell_type": "code",
   "execution_count": 47,
   "id": "63c53a89-9674-4505-96bb-e9423d55b2f8",
   "metadata": {
    "tags": []
   },
   "outputs": [
    {
     "name": "stdout",
     "output_type": "stream",
     "text": [
      "01/01/2023 00:00:00 --> 04/01/2023 00:00:00\n",
      "1 page is going to be extracted\n",
      "Total number of found articles => 635.\n",
      "Total number of pages 7.\n",
      "2/7 page is going to be extracted\n",
      "3/7 page is going to be extracted\n",
      "4/7 page is going to be extracted\n",
      "5/7 page is going to be extracted\n",
      "6/7 page is going to be extracted\n",
      "7/7 page is going to be extracted\n",
      "01/29/2023 00:00:00 --> 04/01/2023 00:00:00\n",
      "1 page is going to be extracted\n",
      "Total number of found articles => 591.\n",
      "Total number of pages 6.\n",
      "2/6 page is going to be extracted\n",
      "3/6 page is going to be extracted\n",
      "4/6 page is going to be extracted\n",
      "5/6 page is going to be extracted\n",
      "6/6 page is going to be extracted\n",
      "02/26/2023 00:00:00 --> 04/01/2023 00:00:00\n",
      "1 page is going to be extracted\n",
      "Total number of found articles => 694.\n",
      "Total number of pages 7.\n",
      "2/7 page is going to be extracted\n",
      "3/7 page is going to be extracted\n",
      "4/7 page is going to be extracted\n",
      "5/7 page is going to be extracted\n",
      "6/7 page is going to be extracted\n",
      "7/7 page is going to be extracted\n",
      "03/26/2023 00:00:00 --> 04/01/2023 00:00:00\n",
      "1 page is going to be extracted\n",
      "Total number of found articles => 151.\n",
      "Total number of pages 2.\n",
      "2/2 page is going to be extracted\n"
     ]
    }
   ],
   "source": [
    "sources = ['nytimes.com', 'theguardian.com']\n",
    "query = \" (climate && change) || (climate && crisis) \"\n",
    "\n",
    "news = newsapi.get_search_all_articles(q = query, sort_by = 'date',\n",
    "                          lang='en', by = 'month', sources = sources,\n",
    "                          from_ = '2023/01/01', to_ = '2023/04/01',\n",
    "                          page_size = 100, max_page = 100, seconds_pause = 1)"
   ]
  },
  {
   "cell_type": "code",
   "execution_count": 58,
   "id": "9ed94d14-75d9-4995-8306-d88fee8168ee",
   "metadata": {
    "tags": []
   },
   "outputs": [
    {
     "data": {
      "text/plain": [
       "2071"
      ]
     },
     "execution_count": 58,
     "metadata": {},
     "output_type": "execute_result"
    }
   ],
   "source": [
    "len(news['articles'])"
   ]
  },
  {
   "cell_type": "code",
   "execution_count": 59,
   "id": "74988d25-ba0c-4a0a-8ae2-606ce4cf85e7",
   "metadata": {
    "tags": []
   },
   "outputs": [],
   "source": [
    "df_news = pd.DataFrame(news['articles'])"
   ]
  },
  {
   "cell_type": "code",
   "execution_count": 60,
   "id": "a7b770a3-c4a9-4375-8abd-baab90174048",
   "metadata": {
    "tags": []
   },
   "outputs": [],
   "source": [
    "df_news['published_date'] = pd.to_datetime(df_news['published_date'])\n",
    "df_news = df_news.sort_values('published_date')"
   ]
  },
  {
   "cell_type": "code",
   "execution_count": 63,
   "id": "476e4ca4-7409-4939-a050-d2638d33a21b",
   "metadata": {
    "tags": []
   },
   "outputs": [],
   "source": [
    "df_news.to_csv('../data/climate_news.tar.bz2', encoding='utf-8', index=False, sep=',')"
   ]
  },
  {
   "cell_type": "code",
   "execution_count": 64,
   "id": "e60b4085-e302-446d-9f4f-23e4f86edfa6",
   "metadata": {
    "tags": []
   },
   "outputs": [
    {
     "data": {
      "text/plain": [
       "1679    She Taught Us to Do Nothing. Now Jenny Odell W...\n",
       "114     Endangered foods: why our diet is narrower tha...\n",
       "1475    US banks are sacrificing poor communities to t...\n",
       "1070    In T's Spring Women's Fashion Issue, These Clo...\n",
       "1423    How the World Bank Can Meet the Needs of a Cha...\n",
       "1268    Behind the smile, smart suits and ‘reasonable'...\n",
       "1297    Labor and Greens could agree to compromise on ...\n",
       "102     China's shrinking population: what it means fo...\n",
       "300     US turns back growing number of undocumented p...\n",
       "1568    Jack Thompson on David Bowie, the climate cris...\n",
       "294        State Wildlife Agencies Are Animals on Twitter\n",
       "175     Friday briefing: Jacinda Ardern's surprise res...\n",
       "1323    Wednesday briefing: What to expect from Boris ...\n",
       "629     The trusty tarot has revealed the Tories futur...\n",
       "492     Chubb review recommends new integrity body for...\n",
       "140     Climat, Manchester: ‘You've come to the right ...\n",
       "1100    Job Growth Is a Boost for Biden as He Bets on ...\n",
       "1684    Biden Budget Will Propose Tax Increase to Boos...\n",
       "1378    A Different Kind of Pipeline Project Scrambles...\n",
       "1880    To Tap Federal Funds, Chip Makers Will Need to...\n",
       "Name: title, dtype: object"
      ]
     },
     "execution_count": 64,
     "metadata": {},
     "output_type": "execute_result"
    }
   ],
   "source": [
    "df_news['title'].sample(20)"
   ]
  },
  {
   "cell_type": "code",
   "execution_count": null,
   "id": "42c3ea9e-2614-4a46-90be-96c2082a9bc3",
   "metadata": {},
   "outputs": [],
   "source": []
  }
 ],
 "metadata": {
  "kernelspec": {
   "display_name": "Python 3 (ipykernel)",
   "language": "python",
   "name": "python3"
  },
  "language_info": {
   "codemirror_mode": {
    "name": "ipython",
    "version": 3
   },
   "file_extension": ".py",
   "mimetype": "text/x-python",
   "name": "python",
   "nbconvert_exporter": "python",
   "pygments_lexer": "ipython3",
   "version": "3.9.16"
  }
 },
 "nbformat": 4,
 "nbformat_minor": 5
}
